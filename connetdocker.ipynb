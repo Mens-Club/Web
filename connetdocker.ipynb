{
 "cells": [
  {
   "cell_type": "code",
   "execution_count": null,
   "id": "1bc31841",
   "metadata": {},
   "outputs": [
    {
     "name": "stderr",
     "output_type": "stream",
     "text": [
      "C:\\Users\\user\\AppData\\Local\\Temp\\ipykernel_20416\\74046297.py:26: ElasticsearchWarning: Elasticsearch built-in security features are not enabled. Without authentication, your cluster could be accessible to anyone. See https://www.elastic.co/guide/en/elasticsearch/reference/7.14/security-minimal-setup.html to enable security.\n",
      "  helpers.bulk(es, actions)\n"
     ]
    },
    {
     "name": "stdout",
     "output_type": "stream",
     "text": [
      "Elasticsearch로 데이터 업로드 완료!\n"
     ]
    }
   ],
   "source": [
    "import pymysql\n",
    "from elasticsearch import Elasticsearch, helpers\n",
    "\n",
    "# 1. MySQL 연결\n",
    "conn = pymysql.connect(\n",
    "    host=\"172.16.221.208\",\n",
    "    user=\"UK\",\n",
    "    password=\"1234\",\n",
    "    port=3300,\n",
    "    database=\"mensclub\",\n",
    "    cursorclass=pymysql.cursors.DictCursor,  # 결과를 dict 형태로 받음\n",
    ")\n",
    "with conn.cursor() as cursor:\n",
    "    cursor.execute(\"SELECT * FROM mens_table_refine\")\n",
    "    rows = cursor.fetchall()\n",
    "# 2. Elasticsearch 연결\n",
    "es = Elasticsearch(\"http://localhost:9200\")\n",
    "# 3. 데이터 bulk 형태로 준비\n",
    "actions = [\n",
    "    {\"_index\": \"clothes\", \"_source\": row}  # 인덱스 이름 (원하는 이름으로 수정 가능)\n",
    "    for row in rows\n",
    "]\n",
    "# 4. Elasticsearch에 bulk 업로드\n",
    "helpers.bulk(es, actions)\n",
    "print(\"Elasticsearch로 데이터 업로드 완료!\")"
   ]
  },
  {
   "cell_type": "code",
   "execution_count": null,
   "id": "e63eb265",
   "metadata": {},
   "outputs": [
    {
     "name": "stderr",
     "output_type": "stream",
     "text": [
      "C:\\Users\\user\\AppData\\Local\\Temp\\ipykernel_20416\\894930081.py:26: ElasticsearchWarning: Elasticsearch built-in security features are not enabled. Without authentication, your cluster could be accessible to anyone. See https://www.elastic.co/guide/en/elasticsearch/reference/7.14/security-minimal-setup.html to enable security.\n",
      "  helpers.bulk(es, actions)\n"
     ]
    },
    {
     "name": "stdout",
     "output_type": "stream",
     "text": [
      "Elasticsearch로 데이터 업로드 완료!\n"
     ]
    }
   ],
   "source": [
    "import pymysql\n",
    "from elasticsearch import Elasticsearch, helpers\n",
    "\n",
    "# 1. MySQL 연결\n",
    "conn = pymysql.connect(\n",
    "    host=\"172.16.221.208\",\n",
    "    user=\"UK\",\n",
    "    password=\"1234\",\n",
    "    port=3300,\n",
    "    database=\"mensclub\",\n",
    "    cursorclass=pymysql.cursors.DictCursor,  # 결과를 dict 형태로 받음\n",
    ")\n",
    "with conn.cursor() as cursor:\n",
    "    cursor.execute(\"SELECT * FROM shoes_refine\")\n",
    "    rows = cursor.fetchall()\n",
    "# 2. Elasticsearch 연결\n",
    "es = Elasticsearch(\"http://localhost:9200\")\n",
    "# 3. 데이터 bulk 형태로 준비\n",
    "actions = [\n",
    "    {\"_index\": \"shoes\", \"_source\": row}  # 인덱스 이름 (원하는 이름으로 수정 가능)\n",
    "    for row in rows\n",
    "]\n",
    "# 4. Elasticsearch에 bulk 업로드\n",
    "helpers.bulk(es, actions)\n",
    "print(\"Elasticsearch로 데이터 업로드 완료!\")"
   ]
  }
 ],
 "metadata": {
  "kernelspec": {
   "display_name": "seSac_env",
   "language": "python",
   "name": "python3"
  },
  "language_info": {
   "codemirror_mode": {
    "name": "ipython",
    "version": 3
   },
   "file_extension": ".py",
   "mimetype": "text/x-python",
   "name": "python",
   "nbconvert_exporter": "python",
   "pygments_lexer": "ipython3",
   "version": "3.10.16"
  }
 },
 "nbformat": 4,
 "nbformat_minor": 5
}
